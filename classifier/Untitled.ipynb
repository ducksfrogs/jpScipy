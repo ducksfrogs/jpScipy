{
 "cells": [
  {
   "cell_type": "code",
   "execution_count": 15,
   "metadata": {},
   "outputs": [],
   "source": [
    "import numpy as np\n",
    "from sklearn.datasets import make_classification\n",
    "\n",
    "X, y = make_classification(n_samples=20,\n",
    "                           n_features=2, \n",
    "                           n_classes=3,\n",
    "                           n_clusters_per_class=1,\n",
    "                           n_informative=2,\n",
    "                           n_redundant=0,n_repeated=0,random_state=8)\n",
    "\n"
   ]
  },
  {
   "cell_type": "code",
   "execution_count": null,
   "metadata": {},
   "outputs": [],
   "source": []
  },
  {
   "cell_type": "code",
   "execution_count": 16,
   "metadata": {},
   "outputs": [
    {
     "data": {
      "text/plain": [
       "<Figure size 432x288 with 0 Axes>"
      ]
     },
     "metadata": {},
     "output_type": "display_data"
    }
   ],
   "source": [
    "import matplotlib.pyplot as plt\n",
    "%matplotlib inline\n",
    "plt.set_cmap(plt.cm.brg)\n"
   ]
  },
  {
   "cell_type": "code",
   "execution_count": 17,
   "metadata": {},
   "outputs": [
    {
     "data": {
      "text/plain": [
       "<matplotlib.collections.PathCollection at 0x7fe5a82311d0>"
      ]
     },
     "execution_count": 17,
     "metadata": {},
     "output_type": "execute_result"
    },
    {
     "data": {
      "image/png": "[encoded data removed]",
      "text/plain": [
       "<Figure size 432x288 with 1 Axes>"
      ]
     },
     "metadata": {
      "needs_background": "light"
     },
     "output_type": "display_data"
    }
   ],
   "source": [
    "plt.scatter(X[:,0],X[:,1], c=y, s=50)\n"
   ]
  },
  {
   "cell_type": "code",
   "execution_count": 18,
   "metadata": {},
   "outputs": [],
   "source": [
    "def plotBoundary(X, clf, mesh=True, cmap=plt.get_cmap()):\n",
    "    x_min = min(X[:,0])\n",
    "    x_max = max(X[:,1])\n",
    "    y_min = min(X[:,0])\n",
    "    x_max = max(X[:,1])\n",
    "\n",
    "    z = clf.predict(np.c_[XX.ravel(), YY.ravel()])\n",
    "    z = z.reshape(XX.shape)\n",
    "\n",
    "    if mesh:\n",
    "        plt.pcolormesh(XX, YY, z, zorder=-10, cmap=cmap)\n",
    "\n",
    "    plt.xlim((x_min, x_maxa))\n",
    "    plt.ylim((y_min, y_maxa))\n"
   ]
  },
  {
   "cell_type": "code",
   "execution_count": 31,
   "metadata": {},
   "outputs": [
    {
     "data": {
      "image/png": "[encoded data removed]",
      "text/plain": [
       "<Figure size 432x288 with 1 Axes>"
      ]
     },
     "metadata": {
      "needs_background": "light"
     },
     "output_type": "display_data"
    }
   ],
   "source": [
    "from sklearn import neighbors\n",
    "\n",
    "clf = neighbors.KNeighborsClassifier(n_neighbors=1)\n",
    "\n",
    "clf.fit(X,y)\n",
    "\n",
    "plt.scatter(X[:,0],X[:,1], marker='o', s=0, c=y, linewidths=2, edgecolors='black')\n",
    "plotBoundary(X, clf)\n"
   ]
  },
  {
   "cell_type": "code",
   "execution_count": 24,
   "metadata": {},
   "outputs": [],
   "source": [
    "def plotBoundary(X, clf, mesh=True, cmap=plt.get_cmap()):\n",
    "    x_min = min(X[:,0])\n",
    "    x_max = max(X[:,1])\n",
    "    y_min = min(X[:,0])\n",
    "    y_max = max(X[:,1])\n",
    "\n",
    "    XX, YY = np.mgrid[x_min:x_max:200j, y_min:y_max:200j]\n",
    "\n",
    "    z = clf.predict(np.c_[XX.ravel(), YY.ravel()])\n",
    "    z = z.reshape(XX.shape)\n",
    "\n",
    "    if mesh:\n",
    "        plt.pcolormesh(XX, YY, z, zorder=-10, cmap=cmap)\n",
    "\n",
    "    plt.xlim((x_min, x_max))\n",
    "    plt.ylim((y_min, y_max))\n"
   ]
  },
  {
   "cell_type": "code",
   "execution_count": null,
   "metadata": {},
   "outputs": [],
   "source": []
  }
 ],
 "metadata": {
  "kernelspec": {
   "display_name": "Python 3",
   "language": "python",
   "name": "python3"
  },
  "language_info": {
   "codemirror_mode": {
    "name": "ipython",
    "version": 3
   },
   "file_extension": ".py",
   "mimetype": "text/x-python",
   "name": "python",
   "nbconvert_exporter": "python",
   "pygments_lexer": "ipython3",
   "version": "3.7.3"
  }
 },
 "nbformat": 4,
 "nbformat_minor": 2
}
